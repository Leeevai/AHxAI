{
 "cells": [
  {
   "cell_type": "code",
   "execution_count": 1,
   "id": "60fbb096",
   "metadata": {},
   "outputs": [],
   "source": [
    "from helpers import parse_snippet\n",
    "from helpers import get_docs\n",
    "from helpers import pretty_print_dict"
   ]
  },
  {
   "cell_type": "code",
   "execution_count": null,
   "id": "e2c7a06f",
   "metadata": {},
   "outputs": [
    {
     "name": "stdout",
     "output_type": "stream",
     "text": [
      "[<selenium.webdriver.remote.webelement.WebElement (session=\"e0a6dc68b3f19398212b33ebd5ec358a\", element=\"f.C2DC0B38BBF0E9F3B7707652D1C56F16.d.B1CF0218A71AB6ACAD70E2005EA8E11A.e.12\")>, <selenium.webdriver.remote.webelement.WebElement (session=\"e0a6dc68b3f19398212b33ebd5ec358a\", element=\"f.C2DC0B38BBF0E9F3B7707652D1C56F16.d.B1CF0218A71AB6ACAD70E2005EA8E11A.e.13\")>, <selenium.webdriver.remote.webelement.WebElement (session=\"e0a6dc68b3f19398212b33ebd5ec358a\", element=\"f.C2DC0B38BBF0E9F3B7707652D1C56F16.d.B1CF0218A71AB6ACAD70E2005EA8E11A.e.14\")>, <selenium.webdriver.remote.webelement.WebElement (session=\"e0a6dc68b3f19398212b33ebd5ec358a\", element=\"f.C2DC0B38BBF0E9F3B7707652D1C56F16.d.B1CF0218A71AB6ACAD70E2005EA8E11A.e.15\")>, <selenium.webdriver.remote.webelement.WebElement (session=\"e0a6dc68b3f19398212b33ebd5ec358a\", element=\"f.C2DC0B38BBF0E9F3B7707652D1C56F16.d.B1CF0218A71AB6ACAD70E2005EA8E11A.e.16\")>, <selenium.webdriver.remote.webelement.WebElement (session=\"e0a6dc68b3f19398212b33ebd5ec358a\", element=\"f.C2DC0B38BBF0E9F3B7707652D1C56F16.d.B1CF0218A71AB6ACAD70E2005EA8E11A.e.17\")>, <selenium.webdriver.remote.webelement.WebElement (session=\"e0a6dc68b3f19398212b33ebd5ec358a\", element=\"f.C2DC0B38BBF0E9F3B7707652D1C56F16.d.B1CF0218A71AB6ACAD70E2005EA8E11A.e.18\")>, <selenium.webdriver.remote.webelement.WebElement (session=\"e0a6dc68b3f19398212b33ebd5ec358a\", element=\"f.C2DC0B38BBF0E9F3B7707652D1C56F16.d.B1CF0218A71AB6ACAD70E2005EA8E11A.e.19\")>, <selenium.webdriver.remote.webelement.WebElement (session=\"e0a6dc68b3f19398212b33ebd5ec358a\", element=\"f.C2DC0B38BBF0E9F3B7707652D1C56F16.d.B1CF0218A71AB6ACAD70E2005EA8E11A.e.20\")>, <selenium.webdriver.remote.webelement.WebElement (session=\"e0a6dc68b3f19398212b33ebd5ec358a\", element=\"f.C2DC0B38BBF0E9F3B7707652D1C56F16.d.B1CF0218A71AB6ACAD70E2005EA8E11A.e.2\")>, <selenium.webdriver.remote.webelement.WebElement (session=\"e0a6dc68b3f19398212b33ebd5ec358a\", element=\"f.C2DC0B38BBF0E9F3B7707652D1C56F16.d.B1CF0218A71AB6ACAD70E2005EA8E11A.e.3\")>, <selenium.webdriver.remote.webelement.WebElement (session=\"e0a6dc68b3f19398212b33ebd5ec358a\", element=\"f.C2DC0B38BBF0E9F3B7707652D1C56F16.d.B1CF0218A71AB6ACAD70E2005EA8E11A.e.21\")>, <selenium.webdriver.remote.webelement.WebElement (session=\"e0a6dc68b3f19398212b33ebd5ec358a\", element=\"f.C2DC0B38BBF0E9F3B7707652D1C56F16.d.B1CF0218A71AB6ACAD70E2005EA8E11A.e.22\")>, <selenium.webdriver.remote.webelement.WebElement (session=\"e0a6dc68b3f19398212b33ebd5ec358a\", element=\"f.C2DC0B38BBF0E9F3B7707652D1C56F16.d.B1CF0218A71AB6ACAD70E2005EA8E11A.e.23\")>, <selenium.webdriver.remote.webelement.WebElement (session=\"e0a6dc68b3f19398212b33ebd5ec358a\", element=\"f.C2DC0B38BBF0E9F3B7707652D1C56F16.d.B1CF0218A71AB6ACAD70E2005EA8E11A.e.24\")>, <selenium.webdriver.remote.webelement.WebElement (session=\"e0a6dc68b3f19398212b33ebd5ec358a\", element=\"f.C2DC0B38BBF0E9F3B7707652D1C56F16.d.B1CF0218A71AB6ACAD70E2005EA8E11A.e.25\")>, <selenium.webdriver.remote.webelement.WebElement (session=\"e0a6dc68b3f19398212b33ebd5ec358a\", element=\"f.C2DC0B38BBF0E9F3B7707652D1C56F16.d.B1CF0218A71AB6ACAD70E2005EA8E11A.e.26\")>, <selenium.webdriver.remote.webelement.WebElement (session=\"e0a6dc68b3f19398212b33ebd5ec358a\", element=\"f.C2DC0B38BBF0E9F3B7707652D1C56F16.d.B1CF0218A71AB6ACAD70E2005EA8E11A.e.27\")>, <selenium.webdriver.remote.webelement.WebElement (session=\"e0a6dc68b3f19398212b33ebd5ec358a\", element=\"f.C2DC0B38BBF0E9F3B7707652D1C56F16.d.B1CF0218A71AB6ACAD70E2005EA8E11A.e.28\")>, <selenium.webdriver.remote.webelement.WebElement (session=\"e0a6dc68b3f19398212b33ebd5ec358a\", element=\"f.C2DC0B38BBF0E9F3B7707652D1C56F16.d.B1CF0218A71AB6ACAD70E2005EA8E11A.e.29\")>, <selenium.webdriver.remote.webelement.WebElement (session=\"e0a6dc68b3f19398212b33ebd5ec358a\", element=\"f.C2DC0B38BBF0E9F3B7707652D1C56F16.d.B1CF0218A71AB6ACAD70E2005EA8E11A.e.30\")>, <selenium.webdriver.remote.webelement.WebElement (session=\"e0a6dc68b3f19398212b33ebd5ec358a\", element=\"f.C2DC0B38BBF0E9F3B7707652D1C56F16.d.B1CF0218A71AB6ACAD70E2005EA8E11A.e.31\")>, <selenium.webdriver.remote.webelement.WebElement (session=\"e0a6dc68b3f19398212b33ebd5ec358a\", element=\"f.C2DC0B38BBF0E9F3B7707652D1C56F16.d.B1CF0218A71AB6ACAD70E2005EA8E11A.e.32\")>, <selenium.webdriver.remote.webelement.WebElement (session=\"e0a6dc68b3f19398212b33ebd5ec358a\", element=\"f.C2DC0B38BBF0E9F3B7707652D1C56F16.d.B1CF0218A71AB6ACAD70E2005EA8E11A.e.33\")>, <selenium.webdriver.remote.webelement.WebElement (session=\"e0a6dc68b3f19398212b33ebd5ec358a\", element=\"f.C2DC0B38BBF0E9F3B7707652D1C56F16.d.B1CF0218A71AB6ACAD70E2005EA8E11A.e.34\")>, <selenium.webdriver.remote.webelement.WebElement (session=\"e0a6dc68b3f19398212b33ebd5ec358a\", element=\"f.C2DC0B38BBF0E9F3B7707652D1C56F16.d.B1CF0218A71AB6ACAD70E2005EA8E11A.e.35\")>, <selenium.webdriver.remote.webelement.WebElement (session=\"e0a6dc68b3f19398212b33ebd5ec358a\", element=\"f.C2DC0B38BBF0E9F3B7707652D1C56F16.d.B1CF0218A71AB6ACAD70E2005EA8E11A.e.36\")>, <selenium.webdriver.remote.webelement.WebElement (session=\"e0a6dc68b3f19398212b33ebd5ec358a\", element=\"f.C2DC0B38BBF0E9F3B7707652D1C56F16.d.B1CF0218A71AB6ACAD70E2005EA8E11A.e.37\")>, <selenium.webdriver.remote.webelement.WebElement (session=\"e0a6dc68b3f19398212b33ebd5ec358a\", element=\"f.C2DC0B38BBF0E9F3B7707652D1C56F16.d.B1CF0218A71AB6ACAD70E2005EA8E11A.e.38\")>, <selenium.webdriver.remote.webelement.WebElement (session=\"e0a6dc68b3f19398212b33ebd5ec358a\", element=\"f.C2DC0B38BBF0E9F3B7707652D1C56F16.d.B1CF0218A71AB6ACAD70E2005EA8E11A.e.39\")>, <selenium.webdriver.remote.webelement.WebElement (session=\"e0a6dc68b3f19398212b33ebd5ec358a\", element=\"f.C2DC0B38BBF0E9F3B7707652D1C56F16.d.B1CF0218A71AB6ACAD70E2005EA8E11A.e.40\")>, <selenium.webdriver.remote.webelement.WebElement (session=\"e0a6dc68b3f19398212b33ebd5ec358a\", element=\"f.C2DC0B38BBF0E9F3B7707652D1C56F16.d.B1CF0218A71AB6ACAD70E2005EA8E11A.e.41\")>, <selenium.webdriver.remote.webelement.WebElement (session=\"e0a6dc68b3f19398212b33ebd5ec358a\", element=\"f.C2DC0B38BBF0E9F3B7707652D1C56F16.d.B1CF0218A71AB6ACAD70E2005EA8E11A.e.42\")>, <selenium.webdriver.remote.webelement.WebElement (session=\"e0a6dc68b3f19398212b33ebd5ec358a\", element=\"f.C2DC0B38BBF0E9F3B7707652D1C56F16.d.B1CF0218A71AB6ACAD70E2005EA8E11A.e.43\")>, <selenium.webdriver.remote.webelement.WebElement (session=\"e0a6dc68b3f19398212b33ebd5ec358a\", element=\"f.C2DC0B38BBF0E9F3B7707652D1C56F16.d.B1CF0218A71AB6ACAD70E2005EA8E11A.e.44\")>, <selenium.webdriver.remote.webelement.WebElement (session=\"e0a6dc68b3f19398212b33ebd5ec358a\", element=\"f.C2DC0B38BBF0E9F3B7707652D1C56F16.d.B1CF0218A71AB6ACAD70E2005EA8E11A.e.45\")>, <selenium.webdriver.remote.webelement.WebElement (session=\"e0a6dc68b3f19398212b33ebd5ec358a\", element=\"f.C2DC0B38BBF0E9F3B7707652D1C56F16.d.B1CF0218A71AB6ACAD70E2005EA8E11A.e.46\")>, <selenium.webdriver.remote.webelement.WebElement (session=\"e0a6dc68b3f19398212b33ebd5ec358a\", element=\"f.C2DC0B38BBF0E9F3B7707652D1C56F16.d.B1CF0218A71AB6ACAD70E2005EA8E11A.e.47\")>, <selenium.webdriver.remote.webelement.WebElement (session=\"e0a6dc68b3f19398212b33ebd5ec358a\", element=\"f.C2DC0B38BBF0E9F3B7707652D1C56F16.d.B1CF0218A71AB6ACAD70E2005EA8E11A.e.48\")>, <selenium.webdriver.remote.webelement.WebElement (session=\"e0a6dc68b3f19398212b33ebd5ec358a\", element=\"f.C2DC0B38BBF0E9F3B7707652D1C56F16.d.B1CF0218A71AB6ACAD70E2005EA8E11A.e.49\")>, <selenium.webdriver.remote.webelement.WebElement (session=\"e0a6dc68b3f19398212b33ebd5ec358a\", element=\"f.C2DC0B38BBF0E9F3B7707652D1C56F16.d.B1CF0218A71AB6ACAD70E2005EA8E11A.e.50\")>, <selenium.webdriver.remote.webelement.WebElement (session=\"e0a6dc68b3f19398212b33ebd5ec358a\", element=\"f.C2DC0B38BBF0E9F3B7707652D1C56F16.d.B1CF0218A71AB6ACAD70E2005EA8E11A.e.51\")>, <selenium.webdriver.remote.webelement.WebElement (session=\"e0a6dc68b3f19398212b33ebd5ec358a\", element=\"f.C2DC0B38BBF0E9F3B7707652D1C56F16.d.B1CF0218A71AB6ACAD70E2005EA8E11A.e.52\")>, <selenium.webdriver.remote.webelement.WebElement (session=\"e0a6dc68b3f19398212b33ebd5ec358a\", element=\"f.C2DC0B38BBF0E9F3B7707652D1C56F16.d.B1CF0218A71AB6ACAD70E2005EA8E11A.e.53\")>, <selenium.webdriver.remote.webelement.WebElement (session=\"e0a6dc68b3f19398212b33ebd5ec358a\", element=\"f.C2DC0B38BBF0E9F3B7707652D1C56F16.d.B1CF0218A71AB6ACAD70E2005EA8E11A.e.54\")>, <selenium.webdriver.remote.webelement.WebElement (session=\"e0a6dc68b3f19398212b33ebd5ec358a\", element=\"f.C2DC0B38BBF0E9F3B7707652D1C56F16.d.B1CF0218A71AB6ACAD70E2005EA8E11A.e.55\")>, <selenium.webdriver.remote.webelement.WebElement (session=\"e0a6dc68b3f19398212b33ebd5ec358a\", element=\"f.C2DC0B38BBF0E9F3B7707652D1C56F16.d.B1CF0218A71AB6ACAD70E2005EA8E11A.e.56\")>, <selenium.webdriver.remote.webelement.WebElement (session=\"e0a6dc68b3f19398212b33ebd5ec358a\", element=\"f.C2DC0B38BBF0E9F3B7707652D1C56F16.d.B1CF0218A71AB6ACAD70E2005EA8E11A.e.57\")>, <selenium.webdriver.remote.webelement.WebElement (session=\"e0a6dc68b3f19398212b33ebd5ec358a\", element=\"f.C2DC0B38BBF0E9F3B7707652D1C56F16.d.B1CF0218A71AB6ACAD70E2005EA8E11A.e.58\")>, <selenium.webdriver.remote.webelement.WebElement (session=\"e0a6dc68b3f19398212b33ebd5ec358a\", element=\"f.C2DC0B38BBF0E9F3B7707652D1C56F16.d.B1CF0218A71AB6ACAD70E2005EA8E11A.e.59\")>, <selenium.webdriver.remote.webelement.WebElement (session=\"e0a6dc68b3f19398212b33ebd5ec358a\", element=\"f.C2DC0B38BBF0E9F3B7707652D1C56F16.d.B1CF0218A71AB6ACAD70E2005EA8E11A.e.60\")>, <selenium.webdriver.remote.webelement.WebElement (session=\"e0a6dc68b3f19398212b33ebd5ec358a\", element=\"f.C2DC0B38BBF0E9F3B7707652D1C56F16.d.B1CF0218A71AB6ACAD70E2005EA8E11A.e.61\")>, <selenium.webdriver.remote.webelement.WebElement (session=\"e0a6dc68b3f19398212b33ebd5ec358a\", element=\"f.C2DC0B38BBF0E9F3B7707652D1C56F16.d.B1CF0218A71AB6ACAD70E2005EA8E11A.e.62\")>, <selenium.webdriver.remote.webelement.WebElement (session=\"e0a6dc68b3f19398212b33ebd5ec358a\", element=\"f.C2DC0B38BBF0E9F3B7707652D1C56F16.d.B1CF0218A71AB6ACAD70E2005EA8E11A.e.63\")>, <selenium.webdriver.remote.webelement.WebElement (session=\"e0a6dc68b3f19398212b33ebd5ec358a\", element=\"f.C2DC0B38BBF0E9F3B7707652D1C56F16.d.B1CF0218A71AB6ACAD70E2005EA8E11A.e.64\")>, <selenium.webdriver.remote.webelement.WebElement (session=\"e0a6dc68b3f19398212b33ebd5ec358a\", element=\"f.C2DC0B38BBF0E9F3B7707652D1C56F16.d.B1CF0218A71AB6ACAD70E2005EA8E11A.e.65\")>, <selenium.webdriver.remote.webelement.WebElement (session=\"e0a6dc68b3f19398212b33ebd5ec358a\", element=\"f.C2DC0B38BBF0E9F3B7707652D1C56F16.d.B1CF0218A71AB6ACAD70E2005EA8E11A.e.66\")>, <selenium.webdriver.remote.webelement.WebElement (session=\"e0a6dc68b3f19398212b33ebd5ec358a\", element=\"f.C2DC0B38BBF0E9F3B7707652D1C56F16.d.B1CF0218A71AB6ACAD70E2005EA8E11A.e.67\")>, <selenium.webdriver.remote.webelement.WebElement (session=\"e0a6dc68b3f19398212b33ebd5ec358a\", element=\"f.C2DC0B38BBF0E9F3B7707652D1C56F16.d.B1CF0218A71AB6ACAD70E2005EA8E11A.e.68\")>, <selenium.webdriver.remote.webelement.WebElement (session=\"e0a6dc68b3f19398212b33ebd5ec358a\", element=\"f.C2DC0B38BBF0E9F3B7707652D1C56F16.d.B1CF0218A71AB6ACAD70E2005EA8E11A.e.69\")>, <selenium.webdriver.remote.webelement.WebElement (session=\"e0a6dc68b3f19398212b33ebd5ec358a\", element=\"f.C2DC0B38BBF0E9F3B7707652D1C56F16.d.B1CF0218A71AB6ACAD70E2005EA8E11A.e.70\")>, <selenium.webdriver.remote.webelement.WebElement (session=\"e0a6dc68b3f19398212b33ebd5ec358a\", element=\"f.C2DC0B38BBF0E9F3B7707652D1C56F16.d.B1CF0218A71AB6ACAD70E2005EA8E11A.e.71\")>, <selenium.webdriver.remote.webelement.WebElement (session=\"e0a6dc68b3f19398212b33ebd5ec358a\", element=\"f.C2DC0B38BBF0E9F3B7707652D1C56F16.d.B1CF0218A71AB6ACAD70E2005EA8E11A.e.72\")>, <selenium.webdriver.remote.webelement.WebElement (session=\"e0a6dc68b3f19398212b33ebd5ec358a\", element=\"f.C2DC0B38BBF0E9F3B7707652D1C56F16.d.B1CF0218A71AB6ACAD70E2005EA8E11A.e.73\")>, <selenium.webdriver.remote.webelement.WebElement (session=\"e0a6dc68b3f19398212b33ebd5ec358a\", element=\"f.C2DC0B38BBF0E9F3B7707652D1C56F16.d.B1CF0218A71AB6ACAD70E2005EA8E11A.e.74\")>, <selenium.webdriver.remote.webelement.WebElement (session=\"e0a6dc68b3f19398212b33ebd5ec358a\", element=\"f.C2DC0B38BBF0E9F3B7707652D1C56F16.d.B1CF0218A71AB6ACAD70E2005EA8E11A.e.75\")>, <selenium.webdriver.remote.webelement.WebElement (session=\"e0a6dc68b3f19398212b33ebd5ec358a\", element=\"f.C2DC0B38BBF0E9F3B7707652D1C56F16.d.B1CF0218A71AB6ACAD70E2005EA8E11A.e.76\")>, <selenium.webdriver.remote.webelement.WebElement (session=\"e0a6dc68b3f19398212b33ebd5ec358a\", element=\"f.C2DC0B38BBF0E9F3B7707652D1C56F16.d.B1CF0218A71AB6ACAD70E2005EA8E11A.e.77\")>, <selenium.webdriver.remote.webelement.WebElement (session=\"e0a6dc68b3f19398212b33ebd5ec358a\", element=\"f.C2DC0B38BBF0E9F3B7707652D1C56F16.d.B1CF0218A71AB6ACAD70E2005EA8E11A.e.78\")>, <selenium.webdriver.remote.webelement.WebElement (session=\"e0a6dc68b3f19398212b33ebd5ec358a\", element=\"f.C2DC0B38BBF0E9F3B7707652D1C56F16.d.B1CF0218A71AB6ACAD70E2005EA8E11A.e.79\")>, <selenium.webdriver.remote.webelement.WebElement (session=\"e0a6dc68b3f19398212b33ebd5ec358a\", element=\"f.C2DC0B38BBF0E9F3B7707652D1C56F16.d.B1CF0218A71AB6ACAD70E2005EA8E11A.e.80\")>, <selenium.webdriver.remote.webelement.WebElement (session=\"e0a6dc68b3f19398212b33ebd5ec358a\", element=\"f.C2DC0B38BBF0E9F3B7707652D1C56F16.d.B1CF0218A71AB6ACAD70E2005EA8E11A.e.81\")>, <selenium.webdriver.remote.webelement.WebElement (session=\"e0a6dc68b3f19398212b33ebd5ec358a\", element=\"f.C2DC0B38BBF0E9F3B7707652D1C56F16.d.B1CF0218A71AB6ACAD70E2005EA8E11A.e.82\")>, <selenium.webdriver.remote.webelement.WebElement (session=\"e0a6dc68b3f19398212b33ebd5ec358a\", element=\"f.C2DC0B38BBF0E9F3B7707652D1C56F16.d.B1CF0218A71AB6ACAD70E2005EA8E11A.e.83\")>, <selenium.webdriver.remote.webelement.WebElement (session=\"e0a6dc68b3f19398212b33ebd5ec358a\", element=\"f.C2DC0B38BBF0E9F3B7707652D1C56F16.d.B1CF0218A71AB6ACAD70E2005EA8E11A.e.84\")>, <selenium.webdriver.remote.webelement.WebElement (session=\"e0a6dc68b3f19398212b33ebd5ec358a\", element=\"f.C2DC0B38BBF0E9F3B7707652D1C56F16.d.B1CF0218A71AB6ACAD70E2005EA8E11A.e.85\")>, <selenium.webdriver.remote.webelement.WebElement (session=\"e0a6dc68b3f19398212b33ebd5ec358a\", element=\"f.C2DC0B38BBF0E9F3B7707652D1C56F16.d.B1CF0218A71AB6ACAD70E2005EA8E11A.e.86\")>, <selenium.webdriver.remote.webelement.WebElement (session=\"e0a6dc68b3f19398212b33ebd5ec358a\", element=\"f.C2DC0B38BBF0E9F3B7707652D1C56F16.d.B1CF0218A71AB6ACAD70E2005EA8E11A.e.87\")>, <selenium.webdriver.remote.webelement.WebElement (session=\"e0a6dc68b3f19398212b33ebd5ec358a\", element=\"f.C2DC0B38BBF0E9F3B7707652D1C56F16.d.B1CF0218A71AB6ACAD70E2005EA8E11A.e.88\")>, <selenium.webdriver.remote.webelement.WebElement (session=\"e0a6dc68b3f19398212b33ebd5ec358a\", element=\"f.C2DC0B38BBF0E9F3B7707652D1C56F16.d.B1CF0218A71AB6ACAD70E2005EA8E11A.e.89\")>, <selenium.webdriver.remote.webelement.WebElement (session=\"e0a6dc68b3f19398212b33ebd5ec358a\", element=\"f.C2DC0B38BBF0E9F3B7707652D1C56F16.d.B1CF0218A71AB6ACAD70E2005EA8E11A.e.90\")>, <selenium.webdriver.remote.webelement.WebElement (session=\"e0a6dc68b3f19398212b33ebd5ec358a\", element=\"f.C2DC0B38BBF0E9F3B7707652D1C56F16.d.B1CF0218A71AB6ACAD70E2005EA8E11A.e.91\")>, <selenium.webdriver.remote.webelement.WebElement (session=\"e0a6dc68b3f19398212b33ebd5ec358a\", element=\"f.C2DC0B38BBF0E9F3B7707652D1C56F16.d.B1CF0218A71AB6ACAD70E2005EA8E11A.e.92\")>, <selenium.webdriver.remote.webelement.WebElement (session=\"e0a6dc68b3f19398212b33ebd5ec358a\", element=\"f.C2DC0B38BBF0E9F3B7707652D1C56F16.d.B1CF0218A71AB6ACAD70E2005EA8E11A.e.93\")>, <selenium.webdriver.remote.webelement.WebElement (session=\"e0a6dc68b3f19398212b33ebd5ec358a\", element=\"f.C2DC0B38BBF0E9F3B7707652D1C56F16.d.B1CF0218A71AB6ACAD70E2005EA8E11A.e.94\")>, <selenium.webdriver.remote.webelement.WebElement (session=\"e0a6dc68b3f19398212b33ebd5ec358a\", element=\"f.C2DC0B38BBF0E9F3B7707652D1C56F16.d.B1CF0218A71AB6ACAD70E2005EA8E11A.e.95\")>, <selenium.webdriver.remote.webelement.WebElement (session=\"e0a6dc68b3f19398212b33ebd5ec358a\", element=\"f.C2DC0B38BBF0E9F3B7707652D1C56F16.d.B1CF0218A71AB6ACAD70E2005EA8E11A.e.96\")>, <selenium.webdriver.remote.webelement.WebElement (session=\"e0a6dc68b3f19398212b33ebd5ec358a\", element=\"f.C2DC0B38BBF0E9F3B7707652D1C56F16.d.B1CF0218A71AB6ACAD70E2005EA8E11A.e.97\")>, <selenium.webdriver.remote.webelement.WebElement (session=\"e0a6dc68b3f19398212b33ebd5ec358a\", element=\"f.C2DC0B38BBF0E9F3B7707652D1C56F16.d.B1CF0218A71AB6ACAD70E2005EA8E11A.e.8\")>, <selenium.webdriver.remote.webelement.WebElement (session=\"e0a6dc68b3f19398212b33ebd5ec358a\", element=\"f.C2DC0B38BBF0E9F3B7707652D1C56F16.d.B1CF0218A71AB6ACAD70E2005EA8E11A.e.98\")>, <selenium.webdriver.remote.webelement.WebElement (session=\"e0a6dc68b3f19398212b33ebd5ec358a\", element=\"f.C2DC0B38BBF0E9F3B7707652D1C56F16.d.B1CF0218A71AB6ACAD70E2005EA8E11A.e.99\")>, <selenium.webdriver.remote.webelement.WebElement (session=\"e0a6dc68b3f19398212b33ebd5ec358a\", element=\"f.C2DC0B38BBF0E9F3B7707652D1C56F16.d.B1CF0218A71AB6ACAD70E2005EA8E11A.e.6\")>, <selenium.webdriver.remote.webelement.WebElement (session=\"e0a6dc68b3f19398212b33ebd5ec358a\", element=\"f.C2DC0B38BBF0E9F3B7707652D1C56F16.d.B1CF0218A71AB6ACAD70E2005EA8E11A.e.100\")>, <selenium.webdriver.remote.webelement.WebElement (session=\"e0a6dc68b3f19398212b33ebd5ec358a\", element=\"f.C2DC0B38BBF0E9F3B7707652D1C56F16.d.B1CF0218A71AB6ACAD70E2005EA8E11A.e.101\")>, <selenium.webdriver.remote.webelement.WebElement (session=\"e0a6dc68b3f19398212b33ebd5ec358a\", element=\"f.C2DC0B38BBF0E9F3B7707652D1C56F16.d.B1CF0218A71AB6ACAD70E2005EA8E11A.e.7\")>, <selenium.webdriver.remote.webelement.WebElement (session=\"e0a6dc68b3f19398212b33ebd5ec358a\", element=\"f.C2DC0B38BBF0E9F3B7707652D1C56F16.d.B1CF0218A71AB6ACAD70E2005EA8E11A.e.102\")>, <selenium.webdriver.remote.webelement.WebElement (session=\"e0a6dc68b3f19398212b33ebd5ec358a\", element=\"f.C2DC0B38BBF0E9F3B7707652D1C56F16.d.B1CF0218A71AB6ACAD70E2005EA8E11A.e.103\")>]\n",
      "Add to Cursor\n",
      "Add to Cursor\n",
      "Follow us on X\n",
      "Context7\n",
      "FastAPI\n",
      "Follow us on X\n",
      "LangGraph\n",
      "MongoDB\n",
      "Next.js\n",
      "React\n",
      "Report Issue\n",
      "SEARCH RESULTS FOR \"LANGCHAIN\"\n",
      "Shadcn UI\n",
      "Supabase\n",
      "Tailwind CSS\n",
      "Upstash\n",
      "n8n\n",
      "nextjs.org/docs\n",
      "react.dev\n",
      "tailwindcss.com/docs\n"
     ]
    }
   ],
   "source": [
    "from selenium import webdriver\n",
    "from selenium.webdriver.chrome.service import Service\n",
    "from selenium.webdriver.common.by import By\n",
    "from selenium.webdriver.chrome.options import Options\n",
    "import time\n",
    "\n",
    "options = Options()\n",
    "options.add_argument(\"--headless\")\n",
    "driver = webdriver.Chrome(options=options)\n",
    "\n",
    "driver.get(\"https://context7.com/?q=langchain\")\n",
    "time.sleep(3)\n",
    "\n",
    "elements = driver.find_elements(By.CSS_SELECTOR, \"button, a, span, div\")\n",
    "\n",
    "print(elements)\n",
    "\n",
    "libraries = set()\n",
    "for el in elements:\n",
    "    text = el.text.strip()\n",
    "    if text and len(text) < 50 and text[0].isalpha():\n",
    "        libraries.add(text)\n",
    "\n",
    "driver.quit()\n",
    "\n",
    "for lib in sorted(libraries):\n",
    "    print(lib)"
   ]
  },
  {
   "cell_type": "code",
   "execution_count": 10,
   "id": "586cb618",
   "metadata": {},
   "outputs": [],
   "source": [
    "import requests\n",
    "from urllib.parse import quote_plus\n",
    "\n",
    "def gg(base_url: str, topic: str, tokens: int = 10_000) -> str:\n",
    "\n",
    "    topic = quote_plus(topic)\n",
    "\n",
    "    print(f\"encoded topic: {topic}\")\n",
    "\n",
    "    url = f\"{base_url}/llms.txt?topic={topic}&tokens={tokens}\"\n",
    "\n",
    "    response = requests.get(url)\n",
    "\n",
    "    if response.status_code == 200:\n",
    "        llms_text_data = response.text\n",
    "    else:\n",
    "        llms_text_data = f\"Failed to fetch data. Status code: {response.status_code}\"\n",
    "\n",
    "    return llms_text_data"
   ]
  },
  {
   "cell_type": "code",
   "execution_count": 14,
   "id": "d0f341c8",
   "metadata": {},
   "outputs": [
    {
     "name": "stdout",
     "output_type": "stream",
     "text": [
      "encoded topic: noobs+are+%26+here\n",
      "TITLE: Initializing FastAPI App\n",
      "DESCRIPTION: Create a basic FastAPI application with two endpoints: `/` which returns a simple greeting, and `/items/{item_id}` which returns the item ID and an optional query parameter.\n",
      "SOURCE: https://github.com/tiangolo/fastapi/blob/master/docs/vi/docs/index.md#_snippet_2\n",
      "\n",
      "LANGUAGE: Python\n",
      "CODE:\n",
      "```\n",
      "from typing import Union\n",
      "\n",
      "from fastapi import FastAPI\n",
      "\n",
      "app = FastAPI()\n",
      "\n",
      "\n",
      "@app.get(\"/\")\n",
      "def read_root():\n",
      "    return {\"Hello\": \"World\"}\n",
      "\n",
      "\n",
      "@app.get(\"/items/{item_id}\")\n",
      "def read_item(item_id: int, q: Union[str, None] = None):\n",
      "    return {\"item_id\": item_id, \"q\": q}\n",
      "```\n",
      "\n",
      "----------------------------------------\n",
      "\n",
      "TITLE: Example FastAPI Hello World JSON Response\n",
      "DESCRIPTION: This is a typical JSON response returned by a basic FastAPI application. It demonstrates a simple key-value pair, often seen when accessing a root endpoint like `/`.\n",
      "SOURCE: https://github.com/tiangolo/fastapi/blob/master/docs/em/docs/tutorial/first-steps.md#_snippet_1\n",
      "\n",
      "LANGUAGE: JSON\n",
      "CODE:\n",
      "```\n",
      "{\"message\": \"Hello World\"}\n",
      "```\n",
      "\n",
      "----------------------------------------\n",
      "\n",
      "TITLE: Create a Basic FastAPI 'Hello World' Application\n",
      "DESCRIPTION: This comprehensive snippet demonstrates the fundamental structure of a FastAPI application. It includes importing FastAPI, initializing the app, defining a GET route for the root path ('/'), and returning a simple JSON response. This is the typical starting point for any FastAPI project.\n",
      "SOURCE: https://github.com/tiangolo/fastapi/blob/master/docs/em/docs/tutorial/first-steps.md#_snippet_5\n",
      "\n",
      "LANGUAGE: python\n",
      "CODE:\n",
      "```\n",
      "from fastapi import FastAPI\n",
      "\n",
      "app = FastAPI()\n",
      "\n",
      "@app.get(\"/\")\n",
      "def read_root():\n",
      "    return {\"message\": \"Hello World\"}\n",
      "```\n",
      "\n",
      "----------------------------------------\n",
      "\n",
      "TITLE: Create a Basic FastAPI 'Hello World' Application\n",
      "DESCRIPTION: This Python code defines a simple FastAPI application. It initializes a FastAPI instance and creates a root endpoint ('/') that returns a JSON object with a 'message' key. This serves as a minimal example to get started with FastAPI.\n",
      "SOURCE: https://github.com/tiangolo/fastapi/blob/master/docs/en/docs/tutorial/first-steps.md#_snippet_0\n",
      "\n",
      "LANGUAGE: Python\n",
      "CODE:\n",
      "```\n",
      "from fastapi import FastAPI\n",
      "\n",
      "app = FastAPI()\n",
      "\n",
      "@app.get(\"/\")\n",
      "async def read_root():\n",
      "    return {\"message\": \"Hello World\"}\n",
      "```\n",
      "\n",
      "----------------------------------------\n",
      "\n",
      "TITLE: Initializing FastAPI Application\n",
      "DESCRIPTION: Creates an instance of the FastAPI class, which serves as the main entry point for building the API. This instance is then used to define the API's endpoints and handle incoming requests.\n",
      "SOURCE: https://github.com/tiangolo/fastapi/blob/master/docs/pl/docs/tutorial/first-steps.md#_snippet_2\n",
      "\n",
      "LANGUAGE: Python\n",
      "CODE:\n",
      "```\n",
      "from fastapi import FastAPI\n",
      "\n",
      "app = FastAPI()\n",
      "```\n",
      "\n",
      "----------------------------------------\n",
      "\n",
      "TITLE: Initializing FastAPI and Defining Basic Routes\n",
      "DESCRIPTION: This code initializes a FastAPI application and defines two GET routes: one for the root path ('/') and another for '/items/{item_id}' with a path parameter 'item_id' and an optional query parameter 'q'. It demonstrates basic route definition and parameter handling in FastAPI.\n",
      "SOURCE: https://github.com/tiangolo/fastapi/blob/master/docs/tr/docs/index.md#_snippet_2\n",
      "\n",
      "LANGUAGE: Python\n",
      "CODE:\n",
      "```\n",
      "from typing import Union\n",
      "\n",
      "from fastapi import FastAPI\n",
      "\n",
      "app = FastAPI()\n",
      "\n",
      "\n",
      "@app.get(\"/\")\n",
      "def read_root():\n",
      "    return {\"Hello\": \"World\"}\n",
      "\n",
      "\n",
      "@app.get(\"/items/{item_id}\")\n",
      "def read_item(item_id: int, q: Union[str, None] = None):\n",
      "    return {\"item_id\": item_id, \"q\": q}\n",
      "```\n"
     ]
    }
   ],
   "source": [
    "res = gg(\"https://context7.com/tiangolo/fastapi\", \"noobs are & here\", 1_000)\n",
    "print(res)"
   ]
  },
  {
   "cell_type": "code",
   "execution_count": 21,
   "id": "0191f4b5",
   "metadata": {},
   "outputs": [],
   "source": [
    "url = \"https://context7.com/context7/python_langchain_com-docs-introduction/llms.txt?tokens=10000\"\n",
    "docs = get_docs(url)\n",
    "parsed_docs = list(map(lambda x: parse_snippet(x), docs))"
   ]
  },
  {
   "cell_type": "code",
   "execution_count": 23,
   "id": "894aa666",
   "metadata": {},
   "outputs": [
    {
     "data": {
      "text/plain": [
       "48"
      ]
     },
     "execution_count": 23,
     "metadata": {},
     "output_type": "execute_result"
    }
   ],
   "source": [
    "len(parsed_docs)"
   ]
  },
  {
   "cell_type": "code",
   "execution_count": 27,
   "id": "4a13518e",
   "metadata": {},
   "outputs": [
    {
     "name": "stdout",
     "output_type": "stream",
     "text": [
      "This Python snippet demonstrates the full workflow of loading a text document, splitting it into manageable chunks using `RecursiveCharacterTextSplitter`, creating a FAISS vector store from these chunks and the previously initialized embeddings, and finally performing a document retrieval query. The retriever is configured to fetch 20 relevant documents based on the query.\n"
     ]
    }
   ],
   "source": [
    "print(parsed_docs[47][\"DESCRIPTION\"])"
   ]
  }
 ],
 "metadata": {
  "kernelspec": {
   "display_name": "langchain-env",
   "language": "python",
   "name": "python3"
  },
  "language_info": {
   "codemirror_mode": {
    "name": "ipython",
    "version": 3
   },
   "file_extension": ".py",
   "mimetype": "text/x-python",
   "name": "python",
   "nbconvert_exporter": "python",
   "pygments_lexer": "ipython3",
   "version": "3.10.18"
  }
 },
 "nbformat": 4,
 "nbformat_minor": 5
}
